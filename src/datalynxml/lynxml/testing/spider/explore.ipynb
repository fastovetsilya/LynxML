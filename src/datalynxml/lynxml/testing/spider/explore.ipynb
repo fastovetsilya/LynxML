{
 "cells": [
  {
   "cell_type": "code",
   "execution_count": null,
   "id": "bff9d3b0-4448-470f-a88d-58088de5a149",
   "metadata": {},
   "outputs": [],
   "source": []
  },
  {
   "cell_type": "code",
   "execution_count": 2,
   "id": "d265e72a-5ed4-4656-831b-257f23868f6e",
   "metadata": {},
   "outputs": [],
   "source": [
    "import json\n",
    "import pandas as pd\n",
    "import numpy as np"
   ]
  },
  {
   "cell_type": "code",
   "execution_count": 5,
   "id": "f0d3e903-397d-46a0-a284-7f5c32e06f66",
   "metadata": {},
   "outputs": [],
   "source": [
    "spider_dev_json_path = \"/home/ilya/Desktop/SPIDER/spider/spider/dev.json\"\n",
    "with open(spider_dev_json_path, \"rt\") as f:\n",
    "    spider_dev_list = json.loads(f.read())"
   ]
  },
  {
   "cell_type": "code",
   "execution_count": 7,
   "id": "103db273-cf7b-4222-927d-8dbb3039cef5",
   "metadata": {},
   "outputs": [
    {
     "data": {
      "text/plain": [
       "1034"
      ]
     },
     "execution_count": 7,
     "metadata": {},
     "output_type": "execute_result"
    }
   ],
   "source": [
    "len(spider_dev_list)"
   ]
  },
  {
   "cell_type": "code",
   "execution_count": 13,
   "id": "e1347b9b-cbe3-4398-849c-415e1dee8e76",
   "metadata": {},
   "outputs": [
    {
     "data": {
      "text/plain": [
       "{'db_id': 'concert_singer',\n",
       " 'query': 'SELECT count(*) FROM singer',\n",
       " 'query_toks': ['SELECT', 'count', '(', '*', ')', 'FROM', 'singer'],\n",
       " 'query_toks_no_value': ['select', 'count', '(', '*', ')', 'from', 'singer'],\n",
       " 'question': 'How many singers do we have?',\n",
       " 'question_toks': ['How', 'many', 'singers', 'do', 'we', 'have', '?'],\n",
       " 'sql': {'from': {'table_units': [['table_unit', 1]], 'conds': []},\n",
       "  'select': [False, [[3, [0, [0, 0, False], None]]]],\n",
       "  'where': [],\n",
       "  'groupBy': [],\n",
       "  'having': [],\n",
       "  'orderBy': [],\n",
       "  'limit': None,\n",
       "  'intersect': None,\n",
       "  'union': None,\n",
       "  'except': None}}"
      ]
     },
     "execution_count": 13,
     "metadata": {},
     "output_type": "execute_result"
    }
   ],
   "source": [
    "spider_dev_list[0]"
   ]
  },
  {
   "cell_type": "code",
   "execution_count": null,
   "id": "bb68da23-1ce8-4adb-ab12-aa1771b6fa4f",
   "metadata": {},
   "outputs": [],
   "source": []
  }
 ],
 "metadata": {
  "kernelspec": {
   "display_name": "Python 3 (ipykernel)",
   "language": "python",
   "name": "python3"
  },
  "language_info": {
   "codemirror_mode": {
    "name": "ipython",
    "version": 3
   },
   "file_extension": ".py",
   "mimetype": "text/x-python",
   "name": "python",
   "nbconvert_exporter": "python",
   "pygments_lexer": "ipython3",
   "version": "3.10.12"
  }
 },
 "nbformat": 4,
 "nbformat_minor": 5
}
